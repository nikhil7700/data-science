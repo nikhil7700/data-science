{
 "cells": [
  {
   "cell_type": "markdown",
   "id": "257f2d88",
   "metadata": {},
   "source": [
    "# Importing Libraries"
   ]
  },
  {
   "cell_type": "code",
   "execution_count": 1,
   "id": "d326d476",
   "metadata": {},
   "outputs": [],
   "source": [
    "import pandas as pd\n",
    "import numpy as np\n",
    "import matplotlib.pyplot as plt"
   ]
  },
  {
   "cell_type": "markdown",
   "id": "93cf54b7",
   "metadata": {},
   "source": [
    "# Importing Dataset"
   ]
  },
  {
   "cell_type": "code",
   "execution_count": 2,
   "id": "6b9f9550",
   "metadata": {},
   "outputs": [],
   "source": [
    "dataset = pd.read_csv('Ads_CTR_Optimisation.csv')"
   ]
  },
  {
   "cell_type": "markdown",
   "id": "a3a4afac",
   "metadata": {},
   "source": [
    "# Implementing the thompson Sampling"
   ]
  },
  {
   "cell_type": "code",
   "execution_count": 23,
   "id": "efb2f50a",
   "metadata": {},
   "outputs": [],
   "source": [
    "import random\n",
    "N = 100 # tried for 10000,5000,1000,500,200,100\n",
    "d = 10\n",
    "selected_ads = []\n",
    "#step 1\n",
    "no_of_rewards_0 = [0]*d\n",
    "no_of_rewards_1 = [0]*d\n",
    "total_rewards = 0\n",
    "for n in range(N):\n",
    "    ad = 0\n",
    "    max_random = 0\n",
    "    for i in range(d):\n",
    "        random_beta = random.betavariate(no_of_rewards_1[i]+1,no_of_rewards_0[i]+1)\n",
    "        if random_beta>max_random:\n",
    "            max_random = random_beta\n",
    "            ad = i\n",
    "    selected_ads.append(ad)\n",
    "    rewards = dataset.values[n,ad]\n",
    "    if rewards == 0:\n",
    "        no_of_rewards_0[ad] += 1\n",
    "    else:\n",
    "        no_of_rewards_1[ad] += 1\n",
    "    total_rewards += rewards\n",
    "    "
   ]
  },
  {
   "cell_type": "code",
   "execution_count": 24,
   "id": "b19cdf27",
   "metadata": {},
   "outputs": [
    {
     "data": {
      "image/png": "[encoded data removed]",
      "text/plain": [
       "<Figure size 432x288 with 1 Axes>"
      ]
     },
     "metadata": {
      "needs_background": "light"
     },
     "output_type": "display_data"
    }
   ],
   "source": [
    "plt.hist(selected_ads)\n",
    "plt.title('Histogram of selections')\n",
    "plt.xlabel('ads')\n",
    "plt.xticks(selected_ads)\n",
    "plt.ylabel('No. of times the ad was selelcted')\n",
    "plt.show()"
   ]
  },
  {
   "cell_type": "code",
   "execution_count": null,
   "id": "8b202a39",
   "metadata": {},
   "outputs": [],
   "source": []
  }
 ],
 "metadata": {
  "kernelspec": {
   "display_name": "Python 3 (ipykernel)",
   "language": "python",
   "name": "python3"
  },
  "language_info": {
   "codemirror_mode": {
    "name": "ipython",
    "version": 3
   },
   "file_extension": ".py",
   "mimetype": "text/x-python",
   "name": "python",
   "nbconvert_exporter": "python",
   "pygments_lexer": "ipython3",
   "version": "3.9.12"
  }
 },
 "nbformat": 4,
 "nbformat_minor": 5
}
