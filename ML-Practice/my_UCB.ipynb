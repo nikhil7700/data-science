{
 "cells": [
  {
   "cell_type": "markdown",
   "id": "978a00e6",
   "metadata": {},
   "source": [
    "# Importing Libraries"
   ]
  },
  {
   "cell_type": "code",
   "execution_count": 1,
   "id": "6aa8bc19",
   "metadata": {},
   "outputs": [],
   "source": [
    "import pandas as pd\n",
    "import numpy as np\n",
    "import matplotlib.pyplot as plt"
   ]
  },
  {
   "cell_type": "markdown",
   "id": "af4e6c56",
   "metadata": {},
   "source": [
    "# Importing Datasets"
   ]
  },
  {
   "cell_type": "code",
   "execution_count": 2,
   "id": "28c0bef5",
   "metadata": {},
   "outputs": [],
   "source": [
    "dataset = pd.read_csv('Ads_CTR_Optimisation.csv')\n"
   ]
  },
  {
   "cell_type": "code",
   "execution_count": 12,
   "id": "8a3f4d0b",
   "metadata": {},
   "outputs": [],
   "source": [
    "import math\n",
    "N = 500  #10000,5000,1000,500\n",
    "d = 10\n",
    "selected_ads = []\n",
    "no_of_selected = [0]*d\n",
    "sum_of_rewards = [0]*d\n",
    "total_rewards = 10\n",
    "for n in range(N):\n",
    "    ad = 0\n",
    "    max_upper_bound = 0\n",
    "    for i in range(d):\n",
    "        if no_of_selected[i]>0:\n",
    "            average_reward = sum_of_rewards[i]/no_of_selected[i]\n",
    "            delta_i = math.sqrt(3/2*(math.log(n+1)/no_of_selected[i]))\n",
    "            upper_bound = average_reward+delta_i\n",
    "        else:\n",
    "            upper_bound = 1e400\n",
    "        if upper_bound>max_upper_bound:\n",
    "            max_upper_bound = upper_bound\n",
    "            ad = i\n",
    "    selected_ads.append(ad)\n",
    "    no_of_selected[ad] += 1\n",
    "    reward = dataset.values[n, ad]\n",
    "    sum_of_rewards[ad] += reward\n",
    "    total_rewards += reward "
   ]
  },
  {
   "cell_type": "code",
   "execution_count": 13,
   "id": "4125b150",
   "metadata": {},
   "outputs": [
    {
     "data": {
      "image/png": "[encoded data removed]",
      "text/plain": [
       "<Figure size 432x288 with 1 Axes>"
      ]
     },
     "metadata": {
      "needs_background": "light"
     },
     "output_type": "display_data"
    }
   ],
   "source": [
    "plt.hist(selected_ads)\n",
    "plt.title('Histogram of ads selection')\n",
    "plt.xlabel('ads')\n",
    "plt.xticks()\n",
    "plt.ylabel('no. of times each ad was selected')\n",
    "plt.show()"
   ]
  },
  {
   "cell_type": "code",
   "execution_count": null,
   "id": "e7a59726",
   "metadata": {},
   "outputs": [],
   "source": []
  }
 ],
 "metadata": {
  "kernelspec": {
   "display_name": "Python 3 (ipykernel)",
   "language": "python",
   "name": "python3"
  },
  "language_info": {
   "codemirror_mode": {
    "name": "ipython",
    "version": 3
   },
   "file_extension": ".py",
   "mimetype": "text/x-python",
   "name": "python",
   "nbconvert_exporter": "python",
   "pygments_lexer": "ipython3",
   "version": "3.9.12"
  }
 },
 "nbformat": 4,
 "nbformat_minor": 5
}
