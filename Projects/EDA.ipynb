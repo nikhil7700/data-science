{
 "cells": [
  {
   "cell_type": "markdown",
   "id": "08374457",
   "metadata": {},
   "source": [
    "* . The number of customer returns in a retail chain per day follows a Poisson distribution at a rate of \n",
    "25 returns per day. Write Python code to answer the following questions: \n",
    "(a) Calculate the probability that the number of returns exceeds 30 in a day. \n",
    "(b) If the chance of fraudulent return is 0.05, calculate the probability that there will be at least 2 \n",
    "fraudulent returns in any given day."
   ]
  },
  {
   "cell_type": "code",
   "execution_count": 1,
   "id": "4c49ee5c",
   "metadata": {},
   "outputs": [
    {
     "data": {
      "text/plain": [
       "0.1366911308473363"
      ]
     },
     "execution_count": 1,
     "metadata": {},
     "output_type": "execute_result"
    }
   ],
   "source": [
    "from scipy import stats\n",
    "ans_1a = 1-stats.poisson.cdf(k=30,mu=25)\n",
    "ans_1a"
   ]
  },
  {
   "cell_type": "code",
   "execution_count": 2,
   "id": "8e28d2a3",
   "metadata": {},
   "outputs": [
    {
     "data": {
      "text/plain": [
       "0.04999999998194568"
      ]
     },
     "execution_count": 2,
     "metadata": {},
     "output_type": "execute_result"
    }
   ],
   "source": [
    "ans_1b = (1-stats.poisson.cdf(k=1,mu=25))*0.05\n",
    "ans_1b"
   ]
  },
  {
   "cell_type": "markdown",
   "id": "09077b78",
   "metadata": {},
   "source": [
    "2. A student is applying for Masters course in 8 US Universities and believes that she has in each of \n",
    "the eight universities a constant and independent 0.42 probability of getting selected. Write code to \n",
    "answer the following questions: \n",
    "\n",
    "* (a) What is the probability that she will get call from at least 3 universities?"
   ]
  },
  {
   "cell_type": "code",
   "execution_count": 3,
   "id": "50a9e49a",
   "metadata": {},
   "outputs": [
    {
     "data": {
      "text/plain": [
       "0.4526588403106562"
      ]
     },
     "execution_count": 3,
     "metadata": {},
     "output_type": "execute_result"
    }
   ],
   "source": [
    "1-stats.binom.cdf(3,8,0.42)"
   ]
  },
  {
   "cell_type": "markdown",
   "id": "6c72dad8",
   "metadata": {},
   "source": [
    "* (b) What is the probability that she will get calls from exactly 4 universities? "
   ]
  },
  {
   "cell_type": "code",
   "execution_count": 4,
   "id": "06505c9a",
   "metadata": {},
   "outputs": [
    {
     "data": {
      "text/plain": [
       "0.20616437295014411"
      ]
     },
     "execution_count": 4,
     "metadata": {},
     "output_type": "execute_result"
    }
   ],
   "source": [
    "1-stats.binom.cdf(4,8,0.42)"
   ]
  },
  {
   "cell_type": "markdown",
   "id": "9887fed5",
   "metadata": {},
   "source": [
    "3. The time-of-failure of a machine follows exponential distribution with mean time between failures \n",
    "(MTBF) estimated to be 85 hrs. Write code to answer the following questions: \n",
    "\n",
    "* (a) Calculate the probability that the system will fail before 85 hrs. "
   ]
  },
  {
   "cell_type": "code",
   "execution_count": 5,
   "id": "a39fbbab",
   "metadata": {},
   "outputs": [
    {
     "data": {
      "text/plain": [
       "0.6320696377349755"
      ]
     },
     "execution_count": 5,
     "metadata": {},
     "output_type": "execute_result"
    }
   ],
   "source": [
    "stats.expon.cdf(85,loc=1/85,scale=85)"
   ]
  },
  {
   "cell_type": "markdown",
   "id": "ad9612b6",
   "metadata": {},
   "source": [
    "* (b) Calculate the probability that it will not fail up to 150 hrs. "
   ]
  },
  {
   "cell_type": "code",
   "execution_count": 6,
   "id": "fb330886",
   "metadata": {},
   "outputs": [
    {
     "data": {
      "text/plain": [
       "0.17126084522766882"
      ]
     },
     "execution_count": 6,
     "metadata": {},
     "output_type": "execute_result"
    }
   ],
   "source": [
    "1 - stats.expon.cdf(150,loc = 1/85,scale = 85)"
   ]
  },
  {
   "cell_type": "markdown",
   "id": "9eb58bde",
   "metadata": {},
   "source": [
    "4. As per a survey on use of pesticides among 1000 farmers in grape farming for around 10 acres of \n",
    "grape farmland, it was found that the grape farmers spray 38 liters of pesticides in a week on an \n",
    "average with the corresponding standard deviation of 5 liters. Assume that the pesticide spray per \n",
    "week follows a normal distribution. Write code to answer the following questions:\n",
    "\n",
    "* (a) What proportion of the farmers is spraying more than 50 liters of pesticide in a week?"
   ]
  },
  {
   "cell_type": "code",
   "execution_count": 7,
   "id": "d251ea47",
   "metadata": {},
   "outputs": [
    {
     "data": {
      "text/plain": [
       "0.008197535924596155"
      ]
     },
     "execution_count": 7,
     "metadata": {},
     "output_type": "execute_result"
    }
   ],
   "source": [
    "1 - stats.norm.cdf(50,38,5)"
   ]
  },
  {
   "cell_type": "markdown",
   "id": "352be1ef",
   "metadata": {},
   "source": [
    "* (b) What proportion of farmers is spraying less than 10 liters? "
   ]
  },
  {
   "cell_type": "code",
   "execution_count": 8,
   "id": "d73eb4c5",
   "metadata": {},
   "outputs": [
    {
     "data": {
      "text/plain": [
       "3.3157459783261613e-09"
      ]
     },
     "execution_count": 8,
     "metadata": {},
     "output_type": "execute_result"
    }
   ],
   "source": [
    "stats.norm.cdf(9,38,5)"
   ]
  },
  {
   "cell_type": "markdown",
   "id": "357bf470",
   "metadata": {},
   "source": [
    "* (c) What proportion of farmers is spraying between 30 liters and 60 liters? "
   ]
  },
  {
   "cell_type": "code",
   "execution_count": 9,
   "id": "61608f75",
   "metadata": {},
   "outputs": [
    {
     "data": {
      "text/plain": [
       "0.9451952957565343"
      ]
     },
     "execution_count": 9,
     "metadata": {},
     "output_type": "execute_result"
    }
   ],
   "source": [
    "stats.norm.cdf(60,38,5) - stats.norm.cdf(30,38,5)"
   ]
  },
  {
   "cell_type": "markdown",
   "id": "ec4d3cfc",
   "metadata": {},
   "source": [
    "5. A bottle filling machine fills water into 5 liters (5000 cm3\n",
    ") bottles. The company wants to test the \n",
    "null hypothesis that the average amount of water filled by the machine into the bottle is at least \n",
    "5000 cm3\n",
    ". A random sample of 60 bottles coming out of the machine was selected and the exact \n",
    "contents of the selected bottles are recorded. The sample mean was 4,998.1 cm3\n",
    ". The population \n",
    "standard deviation is known from the experience to be 1.30 cm3\n",
    ". Assume that the population is \n",
    "normally distributed with the standard deviation of 1.30 cm3\n",
    ". Write code to test the hypothesis at a \n",
    "of 5%. Explain the results."
   ]
  },
  {
   "cell_type": "code",
   "execution_count": 10,
   "id": "fb5be00b",
   "metadata": {},
   "outputs": [],
   "source": [
    "import math"
   ]
  },
  {
   "cell_type": "code",
   "execution_count": 11,
   "id": "b0360c63",
   "metadata": {},
   "outputs": [],
   "source": [
    "def Z_test(population_mean,population_stddev,sample_mean,num_sample):\n",
    "    z_score = ((sample_mean - population_mean)/(population_stddev/math.sqrt(num_sample)))\n",
    "    z_value = stats.norm.cdf(z_score)\n",
    "    total_critical_region = (1-z_value)*2\n",
    "    return z_score,z_value,total_critical_region"
   ]
  },
  {
   "cell_type": "code",
   "execution_count": 12,
   "id": "303747fe",
   "metadata": {},
   "outputs": [
    {
     "data": {
      "text/plain": [
       "(1.3440000000000016, 0.9105258065485573, 0.1789483869028854)"
      ]
     },
     "execution_count": 12,
     "metadata": {},
     "output_type": "execute_result"
    }
   ],
   "source": [
    "Z_test(350,90,370.16,36)"
   ]
  },
  {
   "cell_type": "markdown",
   "id": "2e941c0f",
   "metadata": {},
   "source": [
    "p-value > alpha = 0.05\n",
    "hence we are gonna accept null hypothesis"
   ]
  },
  {
   "cell_type": "markdown",
   "id": "8c215fe1",
   "metadata": {},
   "source": [
    "6. A fabric manufacturer would like to understand the proportion of defective fabrics they produce. \n",
    "His shop floor staffs have been stating that the percentage of defective is not more than 18%. He \n",
    "would like to test whether the claim made by his shop floor staff is correct. He picked up a random \n",
    "sample of 100 fabrics and found 22 defectives. Use α = 0.05 and write code to test the hypothesis \n",
    "that the percentage of defective components is less than 18%. "
   ]
  },
  {
   "cell_type": "markdown",
   "id": "8020657d",
   "metadata": {},
   "source": [
    "# Given\n",
    "* Sample size = 100\n",
    "* observed defective = 22\n",
    "* expected defective <= 18\n",
    "* NULL HYPOTHESIS = percentage <= 18\n",
    "* ALTERNATE HYPOTHESIS = percentage > 18"
   ]
  },
  {
   "cell_type": "code",
   "execution_count": 19,
   "id": "8fe46b46",
   "metadata": {},
   "outputs": [
    {
     "data": {
      "text/plain": [
       "Ttest_relResult(statistic=2.0310096011589898, pvalue=0.04493472521263044)"
      ]
     },
     "execution_count": 19,
     "metadata": {},
     "output_type": "execute_result"
    }
   ],
   "source": [
    "freq_obs = [0]*100\n",
    "freq_exp = [0]*100\n",
    "for i in range(22):\n",
    "    freq_obs[i] = 1\n",
    "for i in range(18):\n",
    "    freq_exp[i] = 1\n",
    "    \n",
    "stats.ttest_rel(freq_obs,freq_exp)"
   ]
  },
  {
   "cell_type": "markdown",
   "id": "6346f5f8",
   "metadata": {},
   "source": [
    "p-value < 0.05 so we reject null hypothesis and accept alternate hypothesis"
   ]
  },
  {
   "cell_type": "markdown",
   "id": "97c1fb36",
   "metadata": {},
   "source": [
    "7. Suppose that the makers of ABC batteries want to demonstrate that their battery lasts an average \n",
    "of at least 60 min longer than their competitor brand. Two independent random samples of 100 \n",
    "batteries of each kind are selected from both the brands, and the batteries are used continuously. \n",
    "The sample average life of ABC is found to be 450 min. The average life of competitor batteries is \n",
    "368 min with the sample standard deviation of 82 min and 78 min, respectively. Frame a hypothesis \n",
    "and write the code to test ABC’s claim at 95% significance. "
   ]
  },
  {
   "cell_type": "markdown",
   "id": "1f9454f3",
   "metadata": {},
   "source": [
    "# Given\n",
    "* Sample 1 = 100, Sample 2(competitor) = 100\n",
    "* population mean = 450 ,  population mean(competitor) = 368\n",
    "* stddev = 82 ,stddev(competitor) = 78\n",
    "* NULL HYPOTHESIS: battery life >= 60 min than that of competitor battery life\n",
    "* ALTERNATE HYPOTHESIS: battery life < 60 min than that of competitor battery life"
   ]
  },
  {
   "cell_type": "code",
   "execution_count": 20,
   "id": "85e68702",
   "metadata": {},
   "outputs": [
    {
     "data": {
      "text/plain": [
       "Ttest_indResult(statistic=7.245580616896932, pvalue=9.390871476154758e-12)"
      ]
     },
     "execution_count": 20,
     "metadata": {},
     "output_type": "execute_result"
    }
   ],
   "source": [
    "stats.ttest_ind_from_stats(mean1=450,std1=82,nobs1=100,mean2=368,std2=78,nobs2=100)"
   ]
  },
  {
   "cell_type": "markdown",
   "id": "373d84fd",
   "metadata": {},
   "source": [
    "p-value < 0.05 hence we reject null hypothesis"
   ]
  },
  {
   "cell_type": "markdown",
   "id": "86d55832",
   "metadata": {},
   "source": []
  },
  {
   "cell_type": "code",
   "execution_count": null,
   "id": "8dabbade",
   "metadata": {},
   "outputs": [],
   "source": []
  }
 ],
 "metadata": {
  "kernelspec": {
   "display_name": "Python 3 (ipykernel)",
   "language": "python",
   "name": "python3"
  },
  "language_info": {
   "codemirror_mode": {
    "name": "ipython",
    "version": 3
   },
   "file_extension": ".py",
   "mimetype": "text/x-python",
   "name": "python",
   "nbconvert_exporter": "python",
   "pygments_lexer": "ipython3",
   "version": "3.9.12"
  }
 },
 "nbformat": 4,
 "nbformat_minor": 5
}
