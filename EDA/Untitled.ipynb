{
 "cells": [
  {
   "cell_type": "markdown",
   "id": "9327e625",
   "metadata": {},
   "source": [
    "# palindrome number\n"
   ]
  },
  {
   "cell_type": "code",
   "execution_count": 15,
   "id": "1c9d929d",
   "metadata": {},
   "outputs": [],
   "source": [
    "def isPailndrome(x):\n",
    "    temp = [int(i) for i in str(x)]\n",
    "    rev = temp.reverse()\n",
    "    print(temp)\n",
    "    print(rev)\n",
    "    return temp == rev\n",
    "    "
   ]
  },
  {
   "cell_type": "code",
   "execution_count": 16,
   "id": "fde13178",
   "metadata": {},
   "outputs": [
    {
     "ename": "ValueError",
     "evalue": "invalid literal for int() with base 10: '-'",
     "output_type": "error",
     "traceback": [
      "\u001b[1;31m---------------------------------------------------------------------------\u001b[0m",
      "\u001b[1;31mValueError\u001b[0m                                Traceback (most recent call last)",
      "Input \u001b[1;32mIn [16]\u001b[0m, in \u001b[0;36m<cell line: 1>\u001b[1;34m()\u001b[0m\n\u001b[1;32m----> 1\u001b[0m \u001b[43misPailndrome\u001b[49m\u001b[43m(\u001b[49m\u001b[38;5;241;43m-\u001b[39;49m\u001b[38;5;241;43m121\u001b[39;49m\u001b[43m)\u001b[49m\n",
      "Input \u001b[1;32mIn [15]\u001b[0m, in \u001b[0;36misPailndrome\u001b[1;34m(x)\u001b[0m\n\u001b[0;32m      1\u001b[0m \u001b[38;5;28;01mdef\u001b[39;00m \u001b[38;5;21misPailndrome\u001b[39m(x):\n\u001b[1;32m----> 2\u001b[0m     temp \u001b[38;5;241m=\u001b[39m [\u001b[38;5;28mint\u001b[39m(i) \u001b[38;5;28;01mfor\u001b[39;00m i \u001b[38;5;129;01min\u001b[39;00m \u001b[38;5;28mstr\u001b[39m(x)]\n\u001b[0;32m      3\u001b[0m     rev \u001b[38;5;241m=\u001b[39m temp\u001b[38;5;241m.\u001b[39mreverse()\n\u001b[0;32m      4\u001b[0m     \u001b[38;5;28mprint\u001b[39m(temp)\n",
      "Input \u001b[1;32mIn [15]\u001b[0m, in \u001b[0;36m<listcomp>\u001b[1;34m(.0)\u001b[0m\n\u001b[0;32m      1\u001b[0m \u001b[38;5;28;01mdef\u001b[39;00m \u001b[38;5;21misPailndrome\u001b[39m(x):\n\u001b[1;32m----> 2\u001b[0m     temp \u001b[38;5;241m=\u001b[39m [\u001b[38;5;28;43mint\u001b[39;49m\u001b[43m(\u001b[49m\u001b[43mi\u001b[49m\u001b[43m)\u001b[49m \u001b[38;5;28;01mfor\u001b[39;00m i \u001b[38;5;129;01min\u001b[39;00m \u001b[38;5;28mstr\u001b[39m(x)]\n\u001b[0;32m      3\u001b[0m     rev \u001b[38;5;241m=\u001b[39m temp\u001b[38;5;241m.\u001b[39mreverse()\n\u001b[0;32m      4\u001b[0m     \u001b[38;5;28mprint\u001b[39m(temp)\n",
      "\u001b[1;31mValueError\u001b[0m: invalid literal for int() with base 10: '-'"
     ]
    }
   ],
   "source": [
    "isPailndrome(-121)"
   ]
  },
  {
   "cell_type": "markdown",
   "id": "60de777d",
   "metadata": {},
   "source": [
    "# roman to numerical"
   ]
  },
  {
   "cell_type": "code",
   "execution_count": 1,
   "id": "05fa26eb",
   "metadata": {},
   "outputs": [],
   "source": [
    "def get_numerical_values(a):\n",
    "    if a=='I':\n",
    "        return 1\n",
    "    elif a=='V':\n",
    "        return 5\n",
    "    elif a=='X':\n",
    "        return 10\n",
    "    elif a=='L':\n",
    "        return 50\n",
    "    elif a=='C':\n",
    "        return 100\n",
    "    elif a=='D':\n",
    "        return 500\n",
    "    elif a=='M':\n",
    "        return 1000\n",
    "    \n",
    "def convert_to_roman(s):\n",
    "    res = 0\n",
    "    i=0\n",
    "    while(i<len(s)):\n",
    "        s1 = get_numerical_values(s[i])\n",
    "        if i+1<len(s):\n",
    "            s2=get_numerical_values(s[i+1])\n",
    "            if(s1>=s2):\n",
    "                res+=s1\n",
    "                i+=1\n",
    "            else:\n",
    "                res+=s2-s1\n",
    "                i+=2\n",
    "        else:\n",
    "            res+=get_numerical_values(s[i])\n",
    "            i+=1\n",
    "    return res\n",
    "    "
   ]
  },
  {
   "cell_type": "code",
   "execution_count": 2,
   "id": "de0470b2",
   "metadata": {},
   "outputs": [
    {
     "data": {
      "text/plain": [
       "3"
      ]
     },
     "execution_count": 2,
     "metadata": {},
     "output_type": "execute_result"
    }
   ],
   "source": [
    "convert_to_roman('III')"
   ]
  },
  {
   "cell_type": "code",
   "execution_count": 3,
   "id": "80a498e1",
   "metadata": {},
   "outputs": [
    {
     "data": {
      "text/plain": [
       "58"
      ]
     },
     "execution_count": 3,
     "metadata": {},
     "output_type": "execute_result"
    }
   ],
   "source": [
    "convert_to_roman(\"LVIII\")"
   ]
  },
  {
   "cell_type": "code",
   "execution_count": 4,
   "id": "8e6b1e30",
   "metadata": {},
   "outputs": [
    {
     "data": {
      "text/plain": [
       "1994"
      ]
     },
     "execution_count": 4,
     "metadata": {},
     "output_type": "execute_result"
    }
   ],
   "source": [
    "convert_to_roman(\"MCMXCIV\")"
   ]
  },
  {
   "cell_type": "markdown",
   "id": "335e3af4",
   "metadata": {},
   "source": [
    "   # Longest common Prefix"
   ]
  },
  {
   "cell_type": "code",
   "execution_count": 1,
   "id": "e9cf5a52",
   "metadata": {},
   "outputs": [],
   "source": [
    "def get_common(x):\n",
    "    x= set(x)\n",
    "    #common = set.interstion(*map(set,strings))\n",
    "    common = \"\".join(p for p,*r in zip(*x) if all(p==c for c in r))\n",
    "    print(common)\n",
    "    \n",
    "    "
   ]
  },
  {
   "cell_type": "code",
   "execution_count": 2,
   "id": "78afdba1",
   "metadata": {},
   "outputs": [
    {
     "name": "stdout",
     "output_type": "stream",
     "text": [
      "ap\n"
     ]
    }
   ],
   "source": [
    "x = [\"apple\",\"app\",\"ape\"]\n",
    "get_common(x)"
   ]
  },
  {
   "cell_type": "code",
   "execution_count": 23,
   "id": "a9574bdb",
   "metadata": {},
   "outputs": [],
   "source": [
    "def isValid(s):\n",
    "    Flag = True\n",
    "    while Flag:\n",
    "        if \"()\" in s:\n",
    "            print(\"if\")\n",
    "            s = s.replace(\"()\",\"\")\n",
    "        elif \"{}\" in s:\n",
    "            print(\"elif {}\")\n",
    "            s = s.replace(\"{}\",\"\")\n",
    "        elif \"[]\" in s:\n",
    "            print(\"elif []\")\n",
    "            s = s.replace(\"[]\",\"\")\n",
    "        else:\n",
    "            print(\"else\")\n",
    "            break\n",
    "    return len(s)==0"
   ]
  },
  {
   "cell_type": "code",
   "execution_count": 24,
   "id": "91739b7a",
   "metadata": {},
   "outputs": [
    {
     "name": "stdout",
     "output_type": "stream",
     "text": [
      "if\n",
      "elif {}\n",
      "elif []\n",
      "else\n"
     ]
    },
    {
     "data": {
      "text/plain": [
       "True"
      ]
     },
     "execution_count": 24,
     "metadata": {},
     "output_type": "execute_result"
    }
   ],
   "source": [
    "a=\"(){}[]\"\n",
    "isValid(a)"
   ]
  },
  {
   "cell_type": "code",
   "execution_count": null,
   "id": "d2fc3058",
   "metadata": {},
   "outputs": [],
   "source": []
  }
 ],
 "metadata": {
  "kernelspec": {
   "display_name": "Python 3 (ipykernel)",
   "language": "python",
   "name": "python3"
  },
  "language_info": {
   "codemirror_mode": {
    "name": "ipython",
    "version": 3
   },
   "file_extension": ".py",
   "mimetype": "text/x-python",
   "name": "python",
   "nbconvert_exporter": "python",
   "pygments_lexer": "ipython3",
   "version": "3.9.12"
  }
 },
 "nbformat": 4,
 "nbformat_minor": 5
}
