{
 "cells": [
  {
   "cell_type": "code",
   "execution_count": 1,
   "id": "2db17b25",
   "metadata": {},
   "outputs": [
    {
     "ename": "ModuleNotFoundError",
     "evalue": "No module named 'mysql'",
     "output_type": "error",
     "traceback": [
      "\u001b[1;31m---------------------------------------------------------------------------\u001b[0m",
      "\u001b[1;31mModuleNotFoundError\u001b[0m                       Traceback (most recent call last)",
      "Input \u001b[1;32mIn [1]\u001b[0m, in \u001b[0;36m<cell line: 1>\u001b[1;34m()\u001b[0m\n\u001b[1;32m----> 1\u001b[0m \u001b[38;5;28;01mimport\u001b[39;00m \u001b[38;5;21;01mmysql\u001b[39;00m\u001b[38;5;21;01m.\u001b[39;00m\u001b[38;5;21;01mconnector\u001b[39;00m\n",
      "\u001b[1;31mModuleNotFoundError\u001b[0m: No module named 'mysql'"
     ]
    }
   ],
   "source": [
    "import mysql.connector"
   ]
  },
  {
   "cell_type": "code",
   "execution_count": 2,
   "id": "c6c6cd8d",
   "metadata": {},
   "outputs": [
    {
     "name": "stdout",
     "output_type": "stream",
     "text": [
      "Collecting mysql-connector-python\n",
      "  Downloading mysql_connector_python-8.0.30-cp39-cp39-win_amd64.whl (7.8 MB)\n",
      "Requirement already satisfied: protobuf<=3.20.1,>=3.11.0 in c:\\users\\hp\\anaconda3\\lib\\site-packages (from mysql-connector-python) (3.19.1)\n",
      "Installing collected packages: mysql-connector-python\n",
      "Successfully installed mysql-connector-python-8.0.30\n",
      "Note: you may need to restart the kernel to use updated packages.\n"
     ]
    }
   ],
   "source": [
    "pip install mysql-connector-python"
   ]
  },
  {
   "cell_type": "code",
   "execution_count": 3,
   "id": "3c68c857",
   "metadata": {},
   "outputs": [],
   "source": [
    "import mysql.connector"
   ]
  },
  {
   "cell_type": "code",
   "execution_count": 4,
   "id": "50ce9077",
   "metadata": {},
   "outputs": [],
   "source": [
    "db= mysql.connector.connect(host=\"localhost\",user=\"root\",passwd=\"Deep91097@\",database=\"fifa19\")"
   ]
  },
  {
   "cell_type": "code",
   "execution_count": 5,
   "id": "50a0d1cd",
   "metadata": {},
   "outputs": [
    {
     "name": "stdout",
     "output_type": "stream",
     "text": [
      "<mysql.connector.connection_cext.CMySQLConnection object at 0x000002008D579640>\n"
     ]
    }
   ],
   "source": [
    "print(db)"
   ]
  },
  {
   "cell_type": "code",
   "execution_count": 6,
   "id": "6495f437",
   "metadata": {},
   "outputs": [],
   "source": [
    "mycursor = db.cursor()\n",
    "mycursor.execute(\"select * from players limit 10\")\n",
    "result = mycursor.fetchall()"
   ]
  },
  {
   "cell_type": "code",
   "execution_count": 7,
   "id": "6fe033d0",
   "metadata": {},
   "outputs": [],
   "source": [
    "from pprint import pprint"
   ]
  },
  {
   "cell_type": "code",
   "execution_count": 8,
   "id": "15704953",
   "metadata": {},
   "outputs": [
    {
     "name": "stdout",
     "output_type": "stream",
     "text": [
      "[(158023,\n",
      "  'L. Messi',\n",
      "  31,\n",
      "  'Argentina',\n",
      "  94,\n",
      "  94,\n",
      "  'FC Barcelona',\n",
      "  110500000,\n",
      "  565000,\n",
      "  'Left',\n",
      "  10,\n",
      "  datetime.datetime(2004, 7, 1, 0, 0),\n",
      "  \"5'7\",\n",
      "  159,\n",
      "  75),\n",
      " (20801,\n",
      "  'Cristiano Ronaldo',\n",
      "  33,\n",
      "  'Portugal',\n",
      "  94,\n",
      "  94,\n",
      "  'Juventus',\n",
      "  77000000,\n",
      "  405000,\n",
      "  'Right',\n",
      "  7,\n",
      "  datetime.datetime(2018, 7, 10, 0, 0),\n",
      "  \"6'2\",\n",
      "  183,\n",
      "  85),\n",
      " (190871,\n",
      "  'Neymar Jr',\n",
      "  26,\n",
      "  'Brazil',\n",
      "  92,\n",
      "  93,\n",
      "  'Paris Saint-Germain',\n",
      "  118500000,\n",
      "  290000,\n",
      "  'Right',\n",
      "  10,\n",
      "  datetime.datetime(2017, 8, 3, 0, 0),\n",
      "  \"5'9\",\n",
      "  150,\n",
      "  81),\n",
      " (193080,\n",
      "  'De Gea',\n",
      "  27,\n",
      "  'Spain',\n",
      "  91,\n",
      "  93,\n",
      "  'Manchester United',\n",
      "  72000000,\n",
      "  260000,\n",
      "  'Right',\n",
      "  1,\n",
      "  datetime.datetime(2011, 7, 1, 0, 0),\n",
      "  \"6'4\",\n",
      "  168,\n",
      "  40),\n",
      " (192985,\n",
      "  'K. De Bruyne',\n",
      "  27,\n",
      "  'Belgium',\n",
      "  91,\n",
      "  92,\n",
      "  'Manchester City',\n",
      "  102000000,\n",
      "  355000,\n",
      "  'Right',\n",
      "  7,\n",
      "  datetime.datetime(2015, 8, 30, 0, 0),\n",
      "  \"5'11\",\n",
      "  154,\n",
      "  79),\n",
      " (183277,\n",
      "  'E. Hazard',\n",
      "  27,\n",
      "  'Belgium',\n",
      "  91,\n",
      "  91,\n",
      "  'Chelsea',\n",
      "  93000000,\n",
      "  340000,\n",
      "  'Right',\n",
      "  10,\n",
      "  datetime.datetime(2012, 7, 1, 0, 0),\n",
      "  \"5'8\",\n",
      "  163,\n",
      "  86),\n",
      " (177003,\n",
      "  'L. ModriÛˆ',\n",
      "  32,\n",
      "  'Croatia',\n",
      "  91,\n",
      "  91,\n",
      "  'Real Madrid',\n",
      "  67000000,\n",
      "  420000,\n",
      "  'Right',\n",
      "  10,\n",
      "  datetime.datetime(2012, 8, 1, 0, 0),\n",
      "  \"5'8\",\n",
      "  146,\n",
      "  82),\n",
      " (176580,\n",
      "  'L. Suíçrez',\n",
      "  31,\n",
      "  'Uruguay',\n",
      "  91,\n",
      "  91,\n",
      "  'FC Barcelona',\n",
      "  80000000,\n",
      "  455000,\n",
      "  'Right',\n",
      "  9,\n",
      "  datetime.datetime(2014, 7, 11, 0, 0),\n",
      "  \"6'0\",\n",
      "  190,\n",
      "  85),\n",
      " (155862,\n",
      "  'Sergio Ramos',\n",
      "  32,\n",
      "  'Spain',\n",
      "  91,\n",
      "  91,\n",
      "  'Real Madrid',\n",
      "  51000000,\n",
      "  380000,\n",
      "  'Right',\n",
      "  15,\n",
      "  datetime.datetime(2005, 8, 1, 0, 0),\n",
      "  \"6'0\",\n",
      "  181,\n",
      "  75),\n",
      " (200389,\n",
      "  'J. Oblak',\n",
      "  25,\n",
      "  'Slovenia',\n",
      "  90,\n",
      "  93,\n",
      "  'Atlí©tico Madrid',\n",
      "  68000000,\n",
      "  94000,\n",
      "  'Right',\n",
      "  1,\n",
      "  datetime.datetime(2014, 7, 16, 0, 0),\n",
      "  \"6'2\",\n",
      "  192,\n",
      "  11)]\n"
     ]
    }
   ],
   "source": [
    "pprint(result)"
   ]
  },
  {
   "cell_type": "code",
   "execution_count": 10,
   "id": "9996a59f",
   "metadata": {},
   "outputs": [
    {
     "name": "stdout",
     "output_type": "stream",
     "text": [
      "\n",
      "    create table contacts(name varchar(255),phone int(11))\n",
      "\n"
     ]
    }
   ],
   "source": [
    "cmd = '''\n",
    "    create table contacts(name varchar(255),phone int(11))\n",
    "'''\n",
    "print(cmd)\n",
    "mycursor.execute(cmd)"
   ]
  },
  {
   "cell_type": "code",
   "execution_count": 11,
   "id": "97c11bd2",
   "metadata": {},
   "outputs": [],
   "source": [
    "cmd = '''\n",
    "    insert into contacts(name,phone) values(%s,%s)\n",
    "'''\n",
    "val = (\"MAria\",1111111111)\n",
    "mycursor.execute(cmd,val)\n",
    "db.commit()"
   ]
  },
  {
   "cell_type": "code",
   "execution_count": 12,
   "id": "59fbe8cf",
   "metadata": {},
   "outputs": [],
   "source": [
    "mycursor.execute(\"delete from contacts\")\n",
    "db.commit()"
   ]
  },
  {
   "cell_type": "code",
   "execution_count": 16,
   "id": "c3277fc4",
   "metadata": {},
   "outputs": [],
   "source": [
    "mycursor.execute(\"select name from players where nationality = 'United States' limit 10\")"
   ]
  },
  {
   "cell_type": "code",
   "execution_count": 17,
   "id": "f0a812f5",
   "metadata": {},
   "outputs": [
    {
     "name": "stdout",
     "output_type": "stream",
     "text": [
      "[('C. Pulisic',),\n",
      " ('J. Brooks',),\n",
      " ('F. Johnson',),\n",
      " ('T. Chandler',),\n",
      " ('J. Altidore',),\n",
      " ('M. Bradley',),\n",
      " ('D. Yedlin',),\n",
      " ('Z. Steffen',),\n",
      " ('B. Feilhaber',),\n",
      " ('I. Opara',)]\n"
     ]
    }
   ],
   "source": [
    "result = mycursor.fetchall()\n",
    "pprint(result)"
   ]
  },
  {
   "cell_type": "code",
   "execution_count": 18,
   "id": "e8ecf1e4",
   "metadata": {},
   "outputs": [],
   "source": [
    "mycursor.execute(\"create index name_1 on contacts(name)\")\n",
    "db.commit()"
   ]
  },
  {
   "cell_type": "code",
   "execution_count": null,
   "id": "b4637793",
   "metadata": {},
   "outputs": [],
   "source": []
  }
 ],
 "metadata": {
  "kernelspec": {
   "display_name": "Python 3 (ipykernel)",
   "language": "python",
   "name": "python3"
  },
  "language_info": {
   "codemirror_mode": {
    "name": "ipython",
    "version": 3
   },
   "file_extension": ".py",
   "mimetype": "text/x-python",
   "name": "python",
   "nbconvert_exporter": "python",
   "pygments_lexer": "ipython3",
   "version": "3.9.12"
  }
 },
 "nbformat": 4,
 "nbformat_minor": 5
}
